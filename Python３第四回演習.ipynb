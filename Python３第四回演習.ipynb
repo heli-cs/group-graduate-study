{
  "nbformat": 4,
  "nbformat_minor": 0,
  "metadata": {
    "colab": {
      "name": "Python３第四回演習",
      "provenance": [],
      "toc_visible": true,
      "include_colab_link": true
    },
    "kernelspec": {
      "name": "python3",
      "display_name": "Python 3"
    }
  },
  "cells": [
    {
      "cell_type": "markdown",
      "metadata": {
        "id": "view-in-github",
        "colab_type": "text"
      },
      "source": [
        "<a href=\"https://colab.research.google.com/github/heli-cs/group-graduate-study/blob/master/Python%EF%BC%93%E7%AC%AC%E5%9B%9B%E5%9B%9E%E6%BC%94%E7%BF%92.ipynb\" target=\"_parent\"><img src=\"https://colab.research.google.com/assets/colab-badge.svg\" alt=\"Open In Colab\"/></a>"
      ]
    },
    {
      "cell_type": "markdown",
      "metadata": {
        "id": "Cza-USqNshrv",
        "colab_type": "text"
      },
      "source": [
        "# 外部データ: Google ドライブ\n",
        "\n",
        "colabの公式[ドキュメント](https://colab.research.google.com/notebooks/io.ipynb#scrollTo=c2W5A2px3doP)によると、次の方法でGoogleドライブをマウントできる。\n",
        "\n"
      ]
    },
    {
      "cell_type": "markdown",
      "metadata": {
        "id": "2ZmEX9miQMJh",
        "colab_type": "text"
      },
      "source": [
        "## ランタイムの仮想マシンでGoogleドライブをマウントする\n",
        "\n",
        "以下の例では、認証コードを使ってランタイム上にGoogleドライブをマウントすると、そのドライブでファイルを読み書きする方法を示する。"
      ]
    },
    {
      "cell_type": "code",
      "metadata": {
        "id": "bsDhjvcCsdAC",
        "colab_type": "code",
        "colab": {
          "base_uri": "https://localhost:8080/",
          "height": 55
        },
        "outputId": "768ebc7f-261b-45f6-fcbf-3d218dd5a89b"
      },
      "source": [
        "from google.colab import drive\n",
        "drive.mount(\"/content/drive\")"
      ],
      "execution_count": null,
      "outputs": [
        {
          "output_type": "stream",
          "text": [
            "Drive already mounted at /content/drive; to attempt to forcibly remount, call drive.mount(\"/content/drive\", force_remount=True).\n"
          ],
          "name": "stdout"
        }
      ]
    },
    {
      "cell_type": "markdown",
      "metadata": {
        "id": "G2PHev0STmOZ",
        "colab_type": "text"
      },
      "source": [
        "上記のコードを実行すると、認証リンクが出力される。 リンクをクリックして、Googleアカウントのログインに移動する。\n",
        "\n",
        "「Google Drive File Stream」がGoogleアカウントへのアクセスのリクエストを許可すると、認証コードが出力される。このコードコピーし、アプリケーション(上記コードの出力)に切り替えて貼り付けて、`enter`キーを押す。「Mounted at /content/drive」が表示されると、マウント成功だ。\n",
        "\n",
        "マウントされたGoogleドライブを右側のファイルブラウザで確認できる。\n",
        "\n",
        "<strong>注：</strong>ファイルブラウザで `ドライブをマウント` ボタンを使用する場合、現在のユーザーのみに編集されたノートブックについては認証コードは必要ない。"
      ]
    },
    {
      "cell_type": "markdown",
      "metadata": {
        "id": "LhwHhVthgXXZ",
        "colab_type": "text"
      },
      "source": [
        "### 1. File I/O ファイルを読み書き\n",
        "\n",
        "自分のドライブに操作してください。BEGIN と END の間にコードを補足する。\n",
        "+ ファイルを作成、文字列を書く。\n",
        "+ ファイルから文字列を読む。"
      ]
    },
    {
      "cell_type": "code",
      "metadata": {
        "id": "18xwqcd3gMUI",
        "colab_type": "code",
        "colab": {}
      },
      "source": [
        "# test.txt という名前のテキストファイルを作成する\n",
        "# 文字列\"Hello World\"をファイルに書き込みます\n",
        "filepath = \"/content/drive/My Drive/test.txt\"\n",
        "### BEGIN ###\n",
        "\n",
        "\n",
        "### END ###\n",
        "\n",
        "# 上記ファイルから文字列を読み取ります\n",
        "### BEGIN ###\n",
        "\n",
        "\n",
        "### END ###"
      ],
      "execution_count": null,
      "outputs": []
    },
    {
      "cell_type": "markdown",
      "metadata": {
        "id": "J_25qqo0gMha",
        "colab_type": "text"
      },
      "source": [
        "### 2. I/O Practice I/O 練習\n",
        "\n",
        "キーボードから文字列を文字を入力し、`#` キーを入力するまで一つずつファイルに書き込む。\n",
        "\n",
        "BEGIN と END の間にコードを補足する。"
      ]
    },
    {
      "cell_type": "code",
      "metadata": {
        "id": "TwTlCdaOGTqY",
        "colab_type": "code",
        "colab": {}
      },
      "source": [
        "filepath = \"/content/drive/My Drive/test2.txt\"\n",
        "\n",
        "### BEGIN ###\n",
        "ch = input('Please input string:\\n')\n",
        "with open(filepath, ) as fp:\n",
        "\n",
        "\n",
        "with open(filepath, ) as fp:\n",
        "  line = fp.read()\n",
        "  print(line)\n",
        "\n",
        "### END ###"
      ],
      "execution_count": null,
      "outputs": []
    },
    {
      "cell_type": "markdown",
      "metadata": {
        "id": "FKnJbZhuN1Mz",
        "colab_type": "text"
      },
      "source": [
        "### 3. module モジュール\n",
        "\n",
        "以下の例は、support.py と test3.py を作成する。\n",
        "\n",
        "test3.pyには`support`というモジュールをインポートして、`print_func()`関数を使用する。"
      ]
    },
    {
      "cell_type": "code",
      "metadata": {
        "id": "N2fcBbu2Qya2",
        "colab_type": "code",
        "colab": {}
      },
      "source": [
        "content = \"def print_func(par):\\n\\tprint(\\'hello:\\', par)\\n\\treturn\"\n",
        "with open(\"/content/drive/My Drive/support.py\", \"w\") as fp:\n",
        "  fp.write(content)"
      ],
      "execution_count": null,
      "outputs": []
    },
    {
      "cell_type": "code",
      "metadata": {
        "id": "MDkjj1d_Tr4x",
        "colab_type": "code",
        "colab": {}
      },
      "source": [
        "content2 = \"import support\\nsupport.print_func('boom')\"\n",
        "with open(\"/content/drive/My Drive/test3.py\", \"w\") as fp:\n",
        "  fp.write(content2)"
      ],
      "execution_count": null,
      "outputs": []
    },
    {
      "cell_type": "code",
      "metadata": {
        "id": "bTEOZFnyZCtX",
        "colab_type": "code",
        "colab": {
          "base_uri": "https://localhost:8080/",
          "height": 35
        },
        "outputId": "7edfe019-0ae9-4610-c863-ccb9f9f76195"
      },
      "source": [
        "!python /content/drive/\"My Drive\"/test3.py"
      ],
      "execution_count": null,
      "outputs": [
        {
          "output_type": "stream",
          "text": [
            "hello: boom\n"
          ],
          "name": "stdout"
        }
      ]
    },
    {
      "cell_type": "markdown",
      "metadata": {
        "id": "LbD4ynD3dBLt",
        "colab_type": "text"
      },
      "source": [
        "上記の例を参照して、新しいファイル mycalc.py と test4.py を作成してください。mycalc.pyには2つの数値の積を計算する関数を定義する。test4.pyには`mycalc`モジュールをインポートして、定義された関数を使用して、結果を出力してください。"
      ]
    },
    {
      "cell_type": "code",
      "metadata": {
        "id": "aCQxHe6Uff3t",
        "colab_type": "code",
        "colab": {}
      },
      "source": [
        "# mycalc.py"
      ],
      "execution_count": null,
      "outputs": []
    },
    {
      "cell_type": "code",
      "metadata": {
        "id": "HFcJQRj4fjLT",
        "colab_type": "code",
        "colab": {}
      },
      "source": [
        "# test4.py"
      ],
      "execution_count": null,
      "outputs": []
    },
    {
      "cell_type": "code",
      "metadata": {
        "id": "KDUYbAI9flw7",
        "colab_type": "code",
        "colab": {}
      },
      "source": [
        "!python /content/drive/\"My Drive\"/test4.py"
      ],
      "execution_count": null,
      "outputs": []
    },
    {
      "cell_type": "markdown",
      "metadata": {
        "id": "hnS1ReoofqbH",
        "colab_type": "text"
      },
      "source": [
        "### 4. 練習1\n",
        "\n",
        "以下作成されたファイルcontent.txtを使用して、辞書型を利用して、各単語の出現回数をカウントしてください。結果は以下のようになる。\n",
        "\n",
        "The : 4\n",
        "\n",
        "story : 1\n",
        "\n",
        "......"
      ]
    },
    {
      "cell_type": "code",
      "metadata": {
        "id": "syHzzdjngrdB",
        "colab_type": "code",
        "colab": {}
      },
      "source": [
        "content = \"\"\"\n",
        "The story goes that two friends are walking through the desert. During some point of the journey they have an argument, and one friend slap the other one in the face.\n",
        "The one is hurt, but without saying anything, he writes in the sand: Today my best friend slaps me in the face.\n",
        "They keep on walking until they find an oasis and they decide to take a bath. The one who has been slapped gets stuck in the mire and starts drowning, but the friend saves him.\n",
        "After he recovers from the near drowning, he writes on a stone: Today my best friend saves my life.\n",
        "\"\"\"\n",
        "with open(\"/content/drive/My Drive/content.txt\", \"w\") as fp:\n",
        "  fp.write(content)"
      ],
      "execution_count": null,
      "outputs": []
    },
    {
      "cell_type": "code",
      "metadata": {
        "id": "nP6hvwdljxaI",
        "colab_type": "code",
        "colab": {}
      },
      "source": [
        ""
      ],
      "execution_count": null,
      "outputs": []
    }
  ]
}