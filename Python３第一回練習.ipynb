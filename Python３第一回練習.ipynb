{
  "nbformat": 4,
  "nbformat_minor": 0,
  "metadata": {
    "colab": {
      "name": "Python３第一回練習",
      "provenance": [],
      "collapsed_sections": []
    },
    "kernelspec": {
      "name": "python3",
      "display_name": "Python 3"
    }
  },
  "cells": [
    {
      "cell_type": "markdown",
      "metadata": {
        "id": "RafoAyl7QaPH",
        "colab_type": "text"
      },
      "source": [
        "### 1. 数と計算\n",
        "\n",
        "変数width（幅）とheight（高さ） を宣言して、\n",
        "適切な値を与え、面積を計算する。"
      ]
    },
    {
      "cell_type": "code",
      "metadata": {
        "id": "ED0RA1QaQu41",
        "colab_type": "code",
        "colab": {}
      },
      "source": [
        ""
      ],
      "execution_count": 2,
      "outputs": []
    },
    {
      "cell_type": "markdown",
      "metadata": {
        "id": "Jb9TaLXuRKtG",
        "colab_type": "text"
      },
      "source": [
        "### 2. 文字列\n",
        "\n",
        "文字列を定義して、自分の名前を画面に出力する。\n"
      ]
    },
    {
      "cell_type": "code",
      "metadata": {
        "id": "rFNhD2VyRXAN",
        "colab_type": "code",
        "colab": {}
      },
      "source": [
        ""
      ],
      "execution_count": 2,
      "outputs": []
    },
    {
      "cell_type": "markdown",
      "metadata": {
        "id": "3BMZrudzRr4Y",
        "colab_type": "text"
      },
      "source": [
        "### 3. リスト型\n",
        "\n",
        "以下のリストを利用する。<br/>\n",
        "インデックスを利用して、最初のアイテムと最後のアイテムを画面に出力する。\n"
      ]
    },
    {
      "cell_type": "code",
      "metadata": {
        "id": "6VgVG_nQR14f",
        "colab_type": "code",
        "colab": {}
      },
      "source": [
        ""
      ],
      "execution_count": 2,
      "outputs": []
    },
    {
      "cell_type": "markdown",
      "metadata": {
        "id": "i_6w0PTQR2kO",
        "colab_type": "text"
      },
      "source": [
        "### 4. リストの操作\n",
        "\n",
        "4.1 リストoddsを[3、5、7]にスライスする。\n",
        "\n",
        "4.2 上記リストとリスト[ 2 , 4 , 6 , 8 , 10 ]の合計値を計算する。"
      ]
    },
    {
      "cell_type": "code",
      "metadata": {
        "id": "dKsTS_6UR55O",
        "colab_type": "code",
        "colab": {}
      },
      "source": [
        ""
      ],
      "execution_count": 2,
      "outputs": []
    },
    {
      "cell_type": "markdown",
      "metadata": {
        "id": "1wqE6WlcR6FN",
        "colab_type": "text"
      },
      "source": [
        "### 5. 文字リスト\n",
        "\n",
        "以下のリストdataを利用する。<br/>\n",
        "append()関数を使用して、文字列' jkl 'をデータの末尾に追加して画面に出力する。"
      ]
    },
    {
      "cell_type": "code",
      "metadata": {
        "id": "fXxkbX7PR91M",
        "colab_type": "code",
        "colab": {}
      },
      "source": [
        ""
      ],
      "execution_count": 2,
      "outputs": []
    },
    {
      "cell_type": "markdown",
      "metadata": {
        "id": "UQOPHaiBR-Kd",
        "colab_type": "text"
      },
      "source": [
        "### 6. if文\n",
        "\n",
        "任意整数値の変数を定義する。<br/>\n",
        "この数値が正か負かを判別する。\n",
        "負の場合は、「negative」を出力します。 正の場合は、「positive」を出力します。 ゼロの場合、「zero」を出力する。\n"
      ]
    },
    {
      "cell_type": "code",
      "metadata": {
        "id": "UkMDa3i2SACK",
        "colab_type": "code",
        "colab": {}
      },
      "source": [
        ""
      ],
      "execution_count": 2,
      "outputs": []
    },
    {
      "cell_type": "markdown",
      "metadata": {
        "id": "sh2MVBRpSAIu",
        "colab_type": "text"
      },
      "source": [
        "### 7. for 文\n",
        "\n",
        "以下のリストwordsを利用する。<br/>\n",
        "各単語の文字数を出力する。<br/>\n",
        "出力例は以下の通りだ。<br/>\n",
        "muroran 7"
      ]
    },
    {
      "cell_type": "code",
      "metadata": {
        "id": "0X4Lfm00SDPP",
        "colab_type": "code",
        "colab": {}
      },
      "source": [
        ""
      ],
      "execution_count": 2,
      "outputs": []
    },
    {
      "cell_type": "markdown",
      "metadata": {
        "id": "6Y8QBJAaSDWO",
        "colab_type": "text"
      },
      "source": [
        "### 8. while 文\n",
        "\n",
        "以下のリストwordsを利用する。<br/>\n",
        "whileループを使って、全ての単語を出力する。"
      ]
    },
    {
      "cell_type": "code",
      "metadata": {
        "id": "Ccb66rC6SGEO",
        "colab_type": "code",
        "colab": {}
      },
      "source": [
        ""
      ],
      "execution_count": 2,
      "outputs": []
    },
    {
      "cell_type": "markdown",
      "metadata": {
        "id": "5N0cjCcUSGKN",
        "colab_type": "text"
      },
      "source": [
        "### 9. range() 関数\n",
        "\n",
        "range ()関数を使用して、5から11までのシーケンスを生成する。"
      ]
    },
    {
      "cell_type": "code",
      "metadata": {
        "id": "zleGZi6XSH-2",
        "colab_type": "code",
        "colab": {}
      },
      "source": [
        ""
      ],
      "execution_count": 2,
      "outputs": []
    },
    {
      "cell_type": "markdown",
      "metadata": {
        "id": "2jD3gc1rSIFH",
        "colab_type": "text"
      },
      "source": [
        "### 10. 関数を定義する\n",
        "\n",
        "「my_func」という名前の関数を定義し、この関数を呼び出して自分の名前を出力する。\n"
      ]
    },
    {
      "cell_type": "code",
      "metadata": {
        "id": "cdYAJN5MSJzK",
        "colab_type": "code",
        "colab": {}
      },
      "source": [
        ""
      ],
      "execution_count": 2,
      "outputs": []
    },
    {
      "cell_type": "markdown",
      "metadata": {
        "id": "Q3MR97ldSJ4O",
        "colab_type": "text"
      },
      "source": [
        "### 11. デフォルトの引数値\n",
        "\n",
        "上記の関数を使用します。<br/>\n",
        "デフォルト引数を自分の名前として設定する。<br/>\n",
        "他の文字列を渡す場合、この文字列を出力する。<br/>"
      ]
    },
    {
      "cell_type": "code",
      "metadata": {
        "id": "OodTmAbhSLk7",
        "colab_type": "code",
        "colab": {}
      },
      "source": [
        ""
      ],
      "execution_count": 2,
      "outputs": []
    },
    {
      "cell_type": "markdown",
      "metadata": {
        "id": "bUQ2y0EISLrZ",
        "colab_type": "text"
      },
      "source": [
        "### 12. 戻り値\n",
        "\n",
        "2つの数値の合計を計算する関数を定義する。<br/>\n",
        "合計を他の変数に返す。<br/>\n",
        "出力例は以下の通りだ。<br/>\n",
        "res = my_sum(5, 10)<br/>\n",
        "print(res) >>> 15\n"
      ]
    },
    {
      "cell_type": "code",
      "metadata": {
        "id": "XqdYRgSBSNFf",
        "colab_type": "code",
        "colab": {}
      },
      "source": [
        ""
      ],
      "execution_count": 2,
      "outputs": []
    },
    {
      "cell_type": "markdown",
      "metadata": {
        "id": "1v20EQVJSNLP",
        "colab_type": "text"
      },
      "source": [
        "### 13. セット\n",
        "\n",
        "\"apple\",\"cherry\" などの果物を含むセットを作成する。<br/>\n"
      ]
    },
    {
      "cell_type": "code",
      "metadata": {
        "id": "G51ODrb2SOuq",
        "colab_type": "code",
        "colab": {}
      },
      "source": [
        ""
      ],
      "execution_count": 2,
      "outputs": []
    },
    {
      "cell_type": "markdown",
      "metadata": {
        "id": "IdYP1s6DSOz-",
        "colab_type": "text"
      },
      "source": [
        "### 14. セットの要素を追加および削除する\n",
        "14.1 上記のセットに自分の名前を新しい要素として追加します。 セットを出力する。<br/>\n",
        "14.2 セットから自分の名前を削除します。 セットを出力する。\n"
      ]
    },
    {
      "cell_type": "code",
      "metadata": {
        "id": "tJALi0jaSStu",
        "colab_type": "code",
        "colab": {}
      },
      "source": [
        ""
      ],
      "execution_count": 2,
      "outputs": []
    },
    {
      "cell_type": "markdown",
      "metadata": {
        "id": "m3TEbp5ISSyb",
        "colab_type": "text"
      },
      "source": [
        "### 15. 2つのセットを結合する\n",
        "上記の果物セットと他のセットevens ={ 2 , 8 , 16 }を使う。<br/>\n",
        "union()関数を使用して、結合されたセットを出力する。"
      ]
    },
    {
      "cell_type": "code",
      "metadata": {
        "id": "zXE0PS5_SUE8",
        "colab_type": "code",
        "colab": {}
      },
      "source": [
        ""
      ],
      "execution_count": 2,
      "outputs": []
    },
    {
      "cell_type": "markdown",
      "metadata": {
        "id": "4vW5eWqpSUKH",
        "colab_type": "text"
      },
      "source": [
        "### 16. 練習1\n",
        "\n",
        "1から100までの合計を計算する。\n"
      ]
    },
    {
      "cell_type": "code",
      "metadata": {
        "id": "tdfyBJH9SVzs",
        "colab_type": "code",
        "colab": {}
      },
      "source": [
        ""
      ],
      "execution_count": 2,
      "outputs": []
    },
    {
      "cell_type": "markdown",
      "metadata": {
        "id": "VPM42aRHSV4x",
        "colab_type": "text"
      },
      "source": [
        "### 17. 練習2\n",
        "\n",
        "一つ目のパラメータから二つ目のパラメータまでの合計を計算する関数を定義して、結果を返す。"
      ]
    },
    {
      "cell_type": "code",
      "metadata": {
        "id": "ui_63_0xSYk2",
        "colab_type": "code",
        "colab": {}
      },
      "source": [
        ""
      ],
      "execution_count": 2,
      "outputs": []
    },
    {
      "cell_type": "markdown",
      "metadata": {
        "id": "ylMuxkUKSYqM",
        "colab_type": "text"
      },
      "source": [
        "### 18. 練習3\n",
        "\n",
        "以下の２つのセットを利用して、答えを受け取る関数を定義する。<br/>\n",
        "答えがset_okにある場合は、Trueを返す。<br/>\n",
        "答えがset_noにある場合は、Falseを返す。<br/>\n",
        "それ以外の場合は、「answer format is incorrect」と出力して、Falseを返す。\n"
      ]
    },
    {
      "cell_type": "code",
      "metadata": {
        "id": "AVZKumiCSaSt",
        "colab_type": "code",
        "colab": {}
      },
      "source": [
        ""
      ],
      "execution_count": 2,
      "outputs": []
    }
  ]
}