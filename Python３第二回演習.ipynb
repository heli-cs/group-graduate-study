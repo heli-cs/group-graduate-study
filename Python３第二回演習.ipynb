{
  "nbformat": 4,
  "nbformat_minor": 0,
  "metadata": {
    "colab": {
      "name": "Python３第二回演習",
      "provenance": [],
      "collapsed_sections": [],
      "include_colab_link": true
    },
    "kernelspec": {
      "name": "python3",
      "display_name": "Python 3"
    }
  },
  "cells": [
    {
      "cell_type": "markdown",
      "metadata": {
        "id": "view-in-github",
        "colab_type": "text"
      },
      "source": [
        "<a href=\"https://colab.research.google.com/github/heli-cs/group-graduate-study/blob/master/Python%EF%BC%93%E7%AC%AC%E4%BA%8C%E5%9B%9E%E6%BC%94%E7%BF%92.ipynb\" target=\"_parent\"><img src=\"https://colab.research.google.com/assets/colab-badge.svg\" alt=\"Open In Colab\"/></a>"
      ]
    },
    {
      "cell_type": "markdown",
      "metadata": {
        "id": "8ZhYtHbPxO9s",
        "colab_type": "text"
      },
      "source": [
        "### 1. Class and Object クラスとオブジェクト\n",
        "\n",
        "Create a class named as \"Student\", with a property \"name\", and assign your name to \"name\" property. Then create a student object and print the value of \"name\"<br/>\n",
        "「name」プロパティを使用して、「Student」という名前のクラスを作成し、「name」プロパティにあなたの名前を代入する。 次に、インスタンスオブジェクトを作成し、「name」の値を出力する。"
      ]
    },
    {
      "cell_type": "code",
      "metadata": {
        "id": "8B0LuI3wzU0V",
        "colab_type": "code",
        "colab": {}
      },
      "source": [
        ""
      ],
      "execution_count": null,
      "outputs": []
    },
    {
      "cell_type": "markdown",
      "metadata": {
        "id": "iIatBw8Xzkic",
        "colab_type": "text"
      },
      "source": [
        "### 2. Class initialization　クラスの初期化\n",
        "\n",
        "Use the student class defined, but use `__init__()` function to assign values for name and age property. And use object to print name and age. <br/>\n",
        "上記定義された「Student」クラスを使用しますが、 `__init __（）`関数を使用して名前と年齢のプロパティに値を割り当てる。 インスタンスオブジェクトを使用して名前と年齢を出力する。"
      ]
    },
    {
      "cell_type": "code",
      "metadata": {
        "id": "Stgk1EcI0eZv",
        "colab_type": "code",
        "colab": {}
      },
      "source": [
        "class Student:\n",
        "  # define __init__() function here"
      ],
      "execution_count": null,
      "outputs": []
    },
    {
      "cell_type": "markdown",
      "metadata": {
        "id": "6GCVZJyi1gA1",
        "colab_type": "text"
      },
      "source": [
        "### 3. Class method クラス関数\n",
        "\n",
        "Use the student class defined above. Insert a fucntion to print a greeting like \"Hello, my name is Muroran Taro\", and execute it on object<br/>\n",
        "上記定義された「Student」クラスを使用する。「Hello, my name is Muroran Taro」のようなあいさつ文を出力する関数を挿入し、オブジェクトで実行する。"
      ]
    },
    {
      "cell_type": "code",
      "metadata": {
        "id": "JRDGj7192sne",
        "colab_type": "code",
        "colab": {}
      },
      "source": [
        ""
      ],
      "execution_count": null,
      "outputs": []
    },
    {
      "cell_type": "markdown",
      "metadata": {
        "id": "PNmLVDDZ2tZF",
        "colab_type": "text"
      },
      "source": [
        "### 4. Inheritance 継承\n",
        "\n",
        "complete code.<br/>\n",
        "output is shown as below:<br/>\n",
        "name:Taro, age:24<br/>\n",
        "name:Taro, score:100\n",
        "\n",
        "BEGIN と END の間に次のコードを補足する。出力は次のようになる。<br/>\n",
        "name:Taro, age:24<br/>\n",
        "name:Taro, score:100"
      ]
    },
    {
      "cell_type": "code",
      "metadata": {
        "id": "kLlj0qnGSqLZ",
        "colab_type": "code",
        "colab": {}
      },
      "source": [
        "###### BEGIN ######\n",
        "class Person:\n",
        "  def __init__(self, name, age):\n",
        "    self.name = name\n",
        "    self.age = age\n",
        "  # complete the code below\n",
        "  def printmessage(self):\n",
        "    \n",
        "\n",
        "class Student():\n",
        "  # complete the code below\n",
        "  def __init__(self, name, age, score):\n",
        "    \n",
        "  def printscore(self):\n",
        "    \n",
        "###### END ######\n",
        "\n",
        "x = Student(\"Taro\", 24, 100)\n",
        "x.printmessage()\n",
        "x.printscore()"
      ],
      "execution_count": null,
      "outputs": []
    },
    {
      "cell_type": "markdown",
      "metadata": {
        "id": "0aeNCrigXpez",
        "colab_type": "text"
      },
      "source": [
        "### 5. Override オーバーライド\n",
        "\n",
        "BEGIN と END の間に次のコードを補足します。<br/>\n",
        "x-z と y-h の絶対値を計算する\n",
        "出力は次のようになる。<br/>\n",
        "5 21"
      ]
    },
    {
      "cell_type": "code",
      "metadata": {
        "id": "oIWKo0NOYCJg",
        "colab_type": "code",
        "colab": {}
      },
      "source": [
        "class Point:\n",
        "  def __init__(self, x, y, z, h):\n",
        "    self.x = x\n",
        "    self.y = y\n",
        "    self.z = z\n",
        "    self.h = h\n",
        "  def getPoint(self):\n",
        "    return self.x, self.y, self.z, self.h\n",
        "\n",
        "class Line(Point):\n",
        "  ###### Begin ######\n",
        "  # 基底クラスのgetPoint()関数をオーバーライドする\n",
        "  ###### END ######\n",
        "\n",
        "x = Line(5, 10, 23, 44)\n",
        "x.getPoint()"
      ],
      "execution_count": null,
      "outputs": []
    },
    {
      "cell_type": "markdown",
      "metadata": {
        "id": "_GZwKz5rbZU6",
        "colab_type": "text"
      },
      "source": [
        "### 6. 練習1\n",
        "\n",
        "\"House\"と\"Furniture\"二つのクラスを定義する。「House」には、総面積「area」、残りの面積「free_area」、家具リスト「furn_list」という3つのプロパティがある。「Furniture」には、名前「name」とスペース「space」の2つのプロパティがある。\n",
        "\n",
        "「House」には、次の3つの関数がある。\n",
        "+ 家の総面積、家の残りの面積、家の家具のリストを出力する。\n",
        "+ 家具を追加し、家具を追加した後、家の総面積、家の残りの面積、家具のリストを出力する。\n",
        "+ 家具を削除し、家具を削除した後、家の総面積、家の残りの面積、家具のリストを出力する。\n",
        "\n",
        "「Furniture」には、次の関数がある。\n",
        "+ 名前「name」とスペース「space」を出力する。\n",
        "\n",
        "家の面積が新しい家具を追加できない場合、「残りの面積が不足しているため、追加できません」などのプロンプトメッセージを出力する必要がある。"
      ]
    },
    {
      "cell_type": "code",
      "metadata": {
        "id": "HgQFc99Bun91",
        "colab_type": "code",
        "colab": {}
      },
      "source": [
        ""
      ],
      "execution_count": null,
      "outputs": []
    }
  ]
}