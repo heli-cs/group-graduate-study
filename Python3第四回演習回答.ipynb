{
  "nbformat": 4,
  "nbformat_minor": 0,
  "metadata": {
    "colab": {
      "name": "PythonPractice4.ipynb",
      "provenance": [],
      "collapsed_sections": [],
      "toc_visible": true
    },
    "kernelspec": {
      "name": "python3",
      "display_name": "Python 3"
    }
  },
  "cells": [
    {
      "cell_type": "markdown",
      "metadata": {
        "id": "Cza-USqNshrv",
        "colab_type": "text"
      },
      "source": [
        "# 外部データ: Google ドライブ\n",
        "\n",
        "colabの公式[ドキュメント](https://colab.research.google.com/notebooks/io.ipynb#scrollTo=c2W5A2px3doP)によると、次の方法でGoogleドライブをマウントできます。\n",
        "\n"
      ]
    },
    {
      "cell_type": "markdown",
      "metadata": {
        "id": "2ZmEX9miQMJh",
        "colab_type": "text"
      },
      "source": [
        "## ランタイムの仮想マシンでGoogleドライブをマウントする\n",
        "\n",
        "以下の例では、認証コードを使ってランタイム上にGoogleドライブをマウントすると、そのドライブでファイルを読み書きする方法を示します。"
      ]
    },
    {
      "cell_type": "code",
      "metadata": {
        "id": "bsDhjvcCsdAC",
        "colab_type": "code",
        "colab": {
          "base_uri": "https://localhost:8080/",
          "height": 35
        },
        "outputId": "31cbc0e0-4b47-4aba-856f-c789b7661ad4"
      },
      "source": [
        "from google.colab import drive\n",
        "drive.mount(\"/content/drive\")"
      ],
      "execution_count": 1,
      "outputs": [
        {
          "output_type": "stream",
          "text": [
            "Drive already mounted at /content/drive; to attempt to forcibly remount, call drive.mount(\"/content/drive\", force_remount=True).\n"
          ],
          "name": "stdout"
        }
      ]
    },
    {
      "cell_type": "markdown",
      "metadata": {
        "id": "G2PHev0STmOZ",
        "colab_type": "text"
      },
      "source": [
        "上記のコードを実行すると、認証リンクが出力されます。 リンクをクリックして、Googleアカウントのログインに移動します。\n",
        "\n",
        "「Google Drive File Stream」がGoogleアカウントへのアクセスのリクエストを許可すると、認証コードが出力されます。このコードコピーし、アプリケーション(上記コードの出力)に切り替えて貼り付けて、`enter`キーを押します。「Mounted at /content/drive」が表示されると、マウント成功です。\n",
        "\n",
        "マウントされたGoogleドライブを右側のファイルブラウザで確認できます。\n",
        "\n",
        "<strong>注：</strong>ファイルブラウザで `ドライブをマウント` ボタンを使用する場合、現在のユーザーのみに編集されたノートブックについては認証コードは必要ありません。"
      ]
    },
    {
      "cell_type": "markdown",
      "metadata": {
        "id": "LhwHhVthgXXZ",
        "colab_type": "text"
      },
      "source": [
        "### 1. File I/O ファイルを読み書き\n",
        "\n",
        "自分のドライブに操作してください。BEGIN と END の間にコードを補足します。\n",
        "+ ファイルを作成、文字列を書きます。\n",
        "+ ファイルから文字列を読みます。"
      ]
    },
    {
      "cell_type": "code",
      "metadata": {
        "id": "18xwqcd3gMUI",
        "colab_type": "code",
        "colab": {
          "base_uri": "https://localhost:8080/",
          "height": 35
        },
        "outputId": "275ef0dc-94bd-49f1-86f6-5a6f180684d6"
      },
      "source": [
        "# test.txtという名前のテキストファイルを作成する\n",
        "# 文字列\"Hello World\"をファイルに書き込みます\n",
        "filepath = \"/content/drive/My Drive/test.txt\"\n",
        "\n",
        "### BEGIN ###\n",
        "with open(filepath, \"w\") as fp:\n",
        "  fp.write(\"Hello World\")\n",
        "\n",
        "### END ###\n",
        "\n",
        "# 上記ファイルから文字列を読み取ります\n",
        "### BEGIN ###\n",
        "with open(filepath, \"r\") as fp:\n",
        "  content = fp.read()\n",
        "  print(content)\n",
        "\n",
        "### END ###"
      ],
      "execution_count": 2,
      "outputs": [
        {
          "output_type": "stream",
          "text": [
            "Hello World\n"
          ],
          "name": "stdout"
        }
      ]
    },
    {
      "cell_type": "markdown",
      "metadata": {
        "id": "J_25qqo0gMha",
        "colab_type": "text"
      },
      "source": [
        "### 2. I/O Practice I/O 練習\n",
        "\n",
        "キーボードから文字列を文字を入力し、`#` キーを入力するまで一つずつファイルに書き込みます。\n",
        "\n",
        "BEGIN と END の間にコードを補足します。"
      ]
    },
    {
      "cell_type": "code",
      "metadata": {
        "id": "TwTlCdaOGTqY",
        "colab_type": "code",
        "colab": {
          "base_uri": "https://localhost:8080/",
          "height": 89
        },
        "outputId": "540aee86-683d-40b6-954d-1d01882db4fc"
      },
      "source": [
        "filepath = \"/content/drive/My Drive/test2.txt\"\n",
        "\n",
        "### BEGIN ###\n",
        "ch = input('Please input string:\\n')\n",
        "with open(filepath, \"w\") as fp:\n",
        "  while(ch != '#'):\n",
        "    fp.write(ch)\n",
        "    ch = input()\n",
        "\n",
        "with open(filepath, \"r\") as fp:\n",
        "  line = fp.read()\n",
        "  print(line)\n",
        "\n",
        "### END ###"
      ],
      "execution_count": 5,
      "outputs": [
        {
          "output_type": "stream",
          "text": [
            "Please input string:\n",
            "123 #\n",
            "#\n",
            "123 #\n"
          ],
          "name": "stdout"
        }
      ]
    },
    {
      "cell_type": "markdown",
      "metadata": {
        "id": "FKnJbZhuN1Mz",
        "colab_type": "text"
      },
      "source": [
        "### 3. module モジュール\n",
        "\n",
        "以下の例は、support.py と test3.py を作成します。\n",
        "\n",
        "test3.pyには`support`というモジュールをインポートして、`print_func()`関数を使用します。"
      ]
    },
    {
      "cell_type": "code",
      "metadata": {
        "id": "N2fcBbu2Qya2",
        "colab_type": "code",
        "colab": {}
      },
      "source": [
        "content = \"def print_func(par):\\n\\tprint(\\'hello:\\', par)\\n\\treturn\"\n",
        "with open(\"/content/drive/My Drive/support.py\", \"w\") as fp:\n",
        "  fp.write(content)"
      ],
      "execution_count": null,
      "outputs": []
    },
    {
      "cell_type": "code",
      "metadata": {
        "id": "MDkjj1d_Tr4x",
        "colab_type": "code",
        "colab": {}
      },
      "source": [
        "content2 = \"import support\\nsupport.print_func('boom')\"\n",
        "with open(\"/content/drive/My Drive/test3.py\", \"w\") as fp:\n",
        "  fp.write(content2)"
      ],
      "execution_count": null,
      "outputs": []
    },
    {
      "cell_type": "code",
      "metadata": {
        "id": "bTEOZFnyZCtX",
        "colab_type": "code",
        "colab": {
          "base_uri": "https://localhost:8080/",
          "height": 35
        },
        "outputId": "7edfe019-0ae9-4610-c863-ccb9f9f76195"
      },
      "source": [
        "!python /content/drive/\"My Drive\"/test3.py"
      ],
      "execution_count": null,
      "outputs": [
        {
          "output_type": "stream",
          "text": [
            "hello: boom\n"
          ],
          "name": "stdout"
        }
      ]
    },
    {
      "cell_type": "markdown",
      "metadata": {
        "id": "LbD4ynD3dBLt",
        "colab_type": "text"
      },
      "source": [
        "上記の例を参照して、新しいファイル mycalc.py と test4.py を作成してください。mycalc.pyには2つの数値の積を計算する関数を定義する。test4.pyには`mycalc`モジュールをインポートして、定義された関数を使用して、結果を出力してください。"
      ]
    },
    {
      "cell_type": "code",
      "metadata": {
        "id": "aCQxHe6Uff3t",
        "colab_type": "code",
        "colab": {}
      },
      "source": [
        "# mycalc.py\n",
        "content = \"def my_func(x, y):\\n\\treturn x*y\"\n",
        "with open(\"/content/drive/My Drive/mycalc.py\", \"w\") as fp:\n",
        "  fp.write(content)"
      ],
      "execution_count": 6,
      "outputs": []
    },
    {
      "cell_type": "code",
      "metadata": {
        "id": "HFcJQRj4fjLT",
        "colab_type": "code",
        "colab": {}
      },
      "source": [
        "# test4.py\n",
        "content2 = \"import mycalc\\nprint(mycalc.my_func(5, 10))\"\n",
        "with open(\"/content/drive/My Drive/test4.py\", \"w\") as fp:\n",
        "  fp.write(content2)"
      ],
      "execution_count": 9,
      "outputs": []
    },
    {
      "cell_type": "code",
      "metadata": {
        "id": "KDUYbAI9flw7",
        "colab_type": "code",
        "colab": {
          "base_uri": "https://localhost:8080/",
          "height": 35
        },
        "outputId": "cd01ae90-e26b-4fa0-be75-0e1aa86d154b"
      },
      "source": [
        "!python /content/drive/\"My Drive\"/test4.py"
      ],
      "execution_count": 10,
      "outputs": [
        {
          "output_type": "stream",
          "text": [
            "50\n"
          ],
          "name": "stdout"
        }
      ]
    },
    {
      "cell_type": "markdown",
      "metadata": {
        "id": "hnS1ReoofqbH",
        "colab_type": "text"
      },
      "source": [
        "### 4. 練習1\n",
        "\n",
        "以下作成されたファイルcontent.txtを使用して、辞書型を利用して、各単語の出現回数をカウントしてください。結果は以下のようになります。\n",
        "\n",
        "The : 4\n",
        "\n",
        "story : 1\n",
        "\n",
        "......"
      ]
    },
    {
      "cell_type": "code",
      "metadata": {
        "id": "syHzzdjngrdB",
        "colab_type": "code",
        "colab": {}
      },
      "source": [
        "content = \"\"\"\n",
        "The story goes that two friends are walking through the desert. During some point of the journey they have an argument, and one friend slap the other one in the face.\n",
        "The one is hurt, but without saying anything, he writes in the sand: Today my best friend slaps me in the face.\n",
        "They keep on walking until they find an oasis and they decide to take a bath. The one who has been slapped gets stuck in the mire and starts drowning, but the friend saves him.\n",
        "After he recovers from the near drowning, he writes on a stone: Today my best friend saves my life.\n",
        "\"\"\"\n",
        "with open(\"/content/drive/My Drive/content.txt\", \"w\") as fp:\n",
        "  fp.write(content)"
      ],
      "execution_count": 11,
      "outputs": []
    },
    {
      "cell_type": "code",
      "metadata": {
        "id": "nP6hvwdljxaI",
        "colab_type": "code",
        "colab": {
          "base_uri": "https://localhost:8080/",
          "height": 55
        },
        "outputId": "ce9952c3-5e96-4269-d17b-f2e1ba0419c0"
      },
      "source": [
        "with open(\"/content/drive/My Drive/content.txt\", \"r\") as fp:\n",
        "  sentences = fp.readlines()\n",
        "  my_dict = {}\n",
        "  for item in sentences:\n",
        "    # print(item)\n",
        "    for word in item.split(\" \"):\n",
        "      word = word.strip(\"\\n\").strip(\",\").strip(\".\").strip(\":\")\n",
        "      if(word == \"\"):\n",
        "        break;\n",
        "      # print(word)\n",
        "      my_dict.setdefault(word, 0)\n",
        "      my_dict[word] += 1\n",
        "\n",
        "  print(my_dict)\n"
      ],
      "execution_count": 33,
      "outputs": [
        {
          "output_type": "stream",
          "text": [
            "{'The': 3, 'story': 1, 'goes': 1, 'that': 1, 'two': 1, 'friends': 1, 'are': 1, 'walking': 2, 'through': 1, 'the': 9, 'desert': 1, 'During': 1, 'some': 1, 'point': 1, 'of': 1, 'journey': 1, 'they': 3, 'have': 1, 'an': 2, 'argument': 1, 'and': 3, 'one': 4, 'friend': 4, 'slap': 1, 'other': 1, 'in': 4, 'face': 2, 'is': 1, 'hurt': 1, 'but': 2, 'without': 1, 'saying': 1, 'anything': 1, 'he': 3, 'writes': 2, 'sand': 1, 'Today': 2, 'my': 3, 'best': 2, 'slaps': 1, 'me': 1, 'They': 1, 'keep': 1, 'on': 2, 'until': 1, 'find': 1, 'oasis': 1, 'decide': 1, 'to': 1, 'take': 1, 'a': 2, 'bath': 1, 'who': 1, 'has': 1, 'been': 1, 'slapped': 1, 'gets': 1, 'stuck': 1, 'mire': 1, 'starts': 1, 'drowning': 2, 'saves': 2, 'him': 1, 'After': 1, 'recovers': 1, 'from': 1, 'near': 1, 'stone': 1, 'life': 1}\n"
          ],
          "name": "stdout"
        }
      ]
    }
  ]
}