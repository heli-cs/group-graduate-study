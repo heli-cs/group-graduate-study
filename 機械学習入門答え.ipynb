{
  "nbformat": 4,
  "nbformat_minor": 0,
  "metadata": {
    "colab": {
      "name": "MachineLearning1.ipynb",
      "provenance": [],
      "collapsed_sections": []
    },
    "kernelspec": {
      "name": "python3",
      "display_name": "Python 3"
    }
  },
  "cells": [
    {
      "cell_type": "markdown",
      "metadata": {
        "id": "lZREdXf2PSxI",
        "colab_type": "text"
      },
      "source": [
        "# 機器学習入門\n",
        "\n",
        "### 教師あり学習\n",
        "\n",
        "$~~~~$今回は機械学習の手法の一つである教師あり学習を紹介します。\n",
        "\n",
        "$~~~~$分類問題における機器学習のフローは以下に示します。\n",
        "+ データセットをトレーニングセットとテストセットに分割\n",
        "+ トレーニングセットとそれに対応するラベルを用いて、モデルの学習します\n",
        "+ テストセットとそれに対応するラベルを用いて、モデルの性能評価します\n",
        "今回はScikit-learnライブラリを利用して、機器学習を行います"
      ]
    },
    {
      "cell_type": "markdown",
      "metadata": {
        "id": "099oJZW7azIK",
        "colab_type": "text"
      },
      "source": [
        "$~~~~$Irisというデータセットは、150サンプルのアヤメの花の計測データ（**特徴量**）が記録されています。\n",
        "\n",
        "$~~~~$Setosa，Versicolor，Virginicaの3つの品種（**クラス**）がそれぞれのサンプルに振られており，**特徴量**から品種の予測(**クラス分類**)を行うことが目的になります。"
      ]
    },
    {
      "cell_type": "markdown",
      "metadata": {
        "id": "APf1ZLvHb_bg",
        "colab_type": "text"
      },
      "source": [
        "$~~~~$以下の例は、そのデータセットを利用して、Logistic Regression，Support Vector Machineの2つの手法を取り上げます。"
      ]
    },
    {
      "cell_type": "markdown",
      "metadata": {
        "id": "EwUb91Nbc9sg",
        "colab_type": "text"
      },
      "source": [
        "$~~~~$モジュールのインポートと設定"
      ]
    },
    {
      "cell_type": "code",
      "metadata": {
        "id": "1qXu-Bt5I5lu",
        "colab_type": "code",
        "colab": {}
      },
      "source": [
        "import numpy as np\n",
        "import matplotlib.pyplot as plt\n",
        "from matplotlib.colors import ListedColormap\n",
        "\n",
        "# function to plot decision region\n",
        "def plot_decision_regions(X, y, classifier, resolution=0.02):\n",
        "  # setup marker for generator and color map\n",
        "  markers = ('s', 'x', 'o', '^', 'v')\n",
        "  colors = ('red', 'blue', 'lightgreen', 'gray', 'cyan')\n",
        "  cmap = ListedColormap(colors[:len(np.unique(y))])\n",
        "\n",
        "  # plot the decision surface\n",
        "  x1_min, x1_max = X[:, 0].min() - 1, X[:, 0].max() + 1\n",
        "  x2_min, x2_max = X[:, 1].min() - 1, X[:, 1].max() + 1\n",
        "  xx1, xx2 = np.meshgrid(np.arange(x1_min, x1_max, resolution),\n",
        "                         np.arange(x2_min, x2_max, resolution))\n",
        "  Z = classifier.predict(np.array([xx1.ravel(), xx2.ravel()]).T)\n",
        "  Z = Z.reshape(xx1.shape)\n",
        "  plt.contourf(xx1, xx2, Z, alpha=0.4, cmap=cmap)\n",
        "  plt.xlim(xx1.min(), xx1.max())\n",
        "  plt.ylim(xx2.min(), xx2.max())\n",
        "\n",
        "  labels = {0:\"Setosa\", 1:\"Versicolor\", 2:\"Virginica\"}\n",
        "  # plot class samples:\n",
        "  for idx, cl in enumerate(np.unique(y)):\n",
        "    plt.scatter(x=X[y == cl, 0], y=X[y == cl, 1],\n",
        "                alpha=0.8, c=cmap(idx),\n",
        "                edgecolor='black',\n",
        "                marker=markers[idx],\n",
        "                label=labels[cl])\n",
        "\n"
      ],
      "execution_count": null,
      "outputs": []
    },
    {
      "cell_type": "markdown",
      "metadata": {
        "id": "2CLYbMYHeV8b",
        "colab_type": "text"
      },
      "source": [
        "$~~~~$データセットを読み込む"
      ]
    },
    {
      "cell_type": "code",
      "metadata": {
        "id": "Wnu-MKhWflpr",
        "colab_type": "code",
        "colab": {
          "base_uri": "https://localhost:8080/",
          "height": 204
        },
        "outputId": "d42faff0-ae50-424f-9433-2b922fa76d13"
      },
      "source": [
        "from sklearn import datasets\n",
        "import pandas as pd\n",
        "\n",
        "# load Iris dataset\n",
        "iris = datasets.load_iris()\n",
        "\n",
        "# output the first five samples\n",
        "iris_data = pd.DataFrame(data=iris.data, columns=iris.feature_names)\n",
        "iris_data.head()"
      ],
      "execution_count": null,
      "outputs": [
        {
          "output_type": "execute_result",
          "data": {
            "text/html": [
              "<div>\n",
              "<style scoped>\n",
              "    .dataframe tbody tr th:only-of-type {\n",
              "        vertical-align: middle;\n",
              "    }\n",
              "\n",
              "    .dataframe tbody tr th {\n",
              "        vertical-align: top;\n",
              "    }\n",
              "\n",
              "    .dataframe thead th {\n",
              "        text-align: right;\n",
              "    }\n",
              "</style>\n",
              "<table border=\"1\" class=\"dataframe\">\n",
              "  <thead>\n",
              "    <tr style=\"text-align: right;\">\n",
              "      <th></th>\n",
              "      <th>sepal length (cm)</th>\n",
              "      <th>sepal width (cm)</th>\n",
              "      <th>petal length (cm)</th>\n",
              "      <th>petal width (cm)</th>\n",
              "    </tr>\n",
              "  </thead>\n",
              "  <tbody>\n",
              "    <tr>\n",
              "      <th>0</th>\n",
              "      <td>5.1</td>\n",
              "      <td>3.5</td>\n",
              "      <td>1.4</td>\n",
              "      <td>0.2</td>\n",
              "    </tr>\n",
              "    <tr>\n",
              "      <th>1</th>\n",
              "      <td>4.9</td>\n",
              "      <td>3.0</td>\n",
              "      <td>1.4</td>\n",
              "      <td>0.2</td>\n",
              "    </tr>\n",
              "    <tr>\n",
              "      <th>2</th>\n",
              "      <td>4.7</td>\n",
              "      <td>3.2</td>\n",
              "      <td>1.3</td>\n",
              "      <td>0.2</td>\n",
              "    </tr>\n",
              "    <tr>\n",
              "      <th>3</th>\n",
              "      <td>4.6</td>\n",
              "      <td>3.1</td>\n",
              "      <td>1.5</td>\n",
              "      <td>0.2</td>\n",
              "    </tr>\n",
              "    <tr>\n",
              "      <th>4</th>\n",
              "      <td>5.0</td>\n",
              "      <td>3.6</td>\n",
              "      <td>1.4</td>\n",
              "      <td>0.2</td>\n",
              "    </tr>\n",
              "  </tbody>\n",
              "</table>\n",
              "</div>"
            ],
            "text/plain": [
              "   sepal length (cm)  sepal width (cm)  petal length (cm)  petal width (cm)\n",
              "0                5.1               3.5                1.4               0.2\n",
              "1                4.9               3.0                1.4               0.2\n",
              "2                4.7               3.2                1.3               0.2\n",
              "3                4.6               3.1                1.5               0.2\n",
              "4                5.0               3.6                1.4               0.2"
            ]
          },
          "metadata": {
            "tags": []
          },
          "execution_count": 2
        }
      ]
    },
    {
      "cell_type": "markdown",
      "metadata": {
        "id": "93bPMMFSjbuW",
        "colab_type": "text"
      },
      "source": [
        "$~~~~$本例では、「sepal length」と「sepal width」を特徴量として、アヤメの花を分類します。"
      ]
    },
    {
      "cell_type": "code",
      "metadata": {
        "id": "zNcMsUrpm7Mz",
        "colab_type": "code",
        "colab": {
          "base_uri": "https://localhost:8080/",
          "height": 53
        },
        "outputId": "d3627b8d-27e6-451e-e1ee-0de3b4ce9456"
      },
      "source": [
        "# input(data)\n",
        "X = iris.data[:,[0,1]]\n",
        "# output(label)\n",
        "y = iris.target\n",
        "\n",
        "print(X[0])\n",
        "print(y[0])"
      ],
      "execution_count": null,
      "outputs": [
        {
          "output_type": "stream",
          "text": [
            "[5.1 3.5]\n",
            "0\n"
          ],
          "name": "stdout"
        }
      ]
    },
    {
      "cell_type": "markdown",
      "metadata": {
        "id": "cfnwEdkNpjp5",
        "colab_type": "text"
      },
      "source": [
        "$~~~~$トレーニングとテストデータセットの分割\n",
        "\n"
      ]
    },
    {
      "cell_type": "code",
      "metadata": {
        "id": "FU2IEIQhojuS",
        "colab_type": "code",
        "colab": {
          "base_uri": "https://localhost:8080/",
          "height": 107
        },
        "outputId": "51553e39-ae23-4b9e-9e5f-de77fd228f2a"
      },
      "source": [
        "from sklearn.model_selection import train_test_split\n",
        "# 30% of dataset is set as test dataset\n",
        "X_train, X_test, y_train, y_test = train_test_split(X, y, test_size=0.3, random_state=1, stratify=y)\n",
        "\n",
        "print(X_train.shape)\n",
        "print(y_train.shape)\n",
        "print(y_train)"
      ],
      "execution_count": null,
      "outputs": [
        {
          "output_type": "stream",
          "text": [
            "(105, 2)\n",
            "(105,)\n",
            "[0 0 2 2 0 2 2 0 2 1 1 1 0 1 1 2 0 1 1 0 2 2 1 1 1 2 1 2 2 2 1 0 2 2 2 2 1\n",
            " 2 2 0 2 0 2 0 0 1 0 0 2 1 0 1 1 0 0 0 1 2 0 1 0 1 2 0 0 1 2 1 1 1 2 1 1 2\n",
            " 2 1 0 0 2 1 2 2 0 1 2 2 0 0 2 0 2 1 1 1 0 2 1 0 0 1 0 1 0 0 0]\n"
          ],
          "name": "stdout"
        }
      ]
    },
    {
      "cell_type": "markdown",
      "metadata": {
        "id": "MZCabz-mKcbU",
        "colab_type": "text"
      },
      "source": [
        "### Logistic Regression\n",
        "\n",
        "$~~~~$ロジスティック回帰は、ベルヌーイ分布に従う変数の統計的回帰モデルの一種であり、線形分離が可能なクラスに対して有効。"
      ]
    },
    {
      "cell_type": "code",
      "metadata": {
        "id": "dijmv7eUKbpm",
        "colab_type": "code",
        "colab": {
          "base_uri": "https://localhost:8080/",
          "height": 35
        },
        "outputId": "c0490ee0-1c08-4260-e5dd-e71ed3ae58fc"
      },
      "source": [
        "from sklearn.linear_model import LogisticRegression\n",
        "from sklearn.metrics import accuracy_score\n",
        "\n",
        "# Logistic Regression instance\n",
        "lr = LogisticRegression(C=100, random_state=1)\n",
        "\n",
        "# Trainging\n",
        "lr.fit(X_train, y_train)\n",
        "\n",
        "# Result\n",
        "pred = lr.predict(X_test)\n",
        "acc = accuracy_score(y_test, pred)\n",
        "print(f\"Accuracy: {acc:.2%}\")"
      ],
      "execution_count": null,
      "outputs": [
        {
          "output_type": "stream",
          "text": [
            "Accuracy: 68.89%\n"
          ],
          "name": "stdout"
        }
      ]
    },
    {
      "cell_type": "code",
      "metadata": {
        "id": "-nnpYTRUeS-B",
        "colab_type": "code",
        "colab": {
          "base_uri": "https://localhost:8080/",
          "height": 353
        },
        "outputId": "96209328-29c5-4ade-d582-6cb6fca61268"
      },
      "source": [
        "plot_decision_regions(X, y, classifier=lr)\n",
        "plt.xlabel(\"sepal length [cm]\")\n",
        "plt.ylabel(\"sepal width [cm]\")\n",
        "plt.legend(loc=\"upper left\")\n",
        "\n",
        "plt.tight_layout\n",
        "plt.show()"
      ],
      "execution_count": null,
      "outputs": [
        {
          "output_type": "stream",
          "text": [
            "'c' argument looks like a single numeric RGB or RGBA sequence, which should be avoided as value-mapping will have precedence in case its length matches with 'x' & 'y'.  Please use a 2-D array with a single row if you really want to specify the same RGB or RGBA value for all points.\n",
            "'c' argument looks like a single numeric RGB or RGBA sequence, which should be avoided as value-mapping will have precedence in case its length matches with 'x' & 'y'.  Please use a 2-D array with a single row if you really want to specify the same RGB or RGBA value for all points.\n",
            "'c' argument looks like a single numeric RGB or RGBA sequence, which should be avoided as value-mapping will have precedence in case its length matches with 'x' & 'y'.  Please use a 2-D array with a single row if you really want to specify the same RGB or RGBA value for all points.\n"
          ],
          "name": "stderr"
        },
        {
          "output_type": "display_data",
          "data": {
            "image/png": "[encoded data removed]",
            "text/plain": [
              "<Figure size 432x288 with 1 Axes>"
            ]
          },
          "metadata": {
            "tags": [],
            "needs_background": "light"
          }
        }
      ]
    },
    {
      "cell_type": "markdown",
      "metadata": {
        "id": "JFcGP-I8GTz0",
        "colab_type": "text"
      },
      "source": [
        "### Support Vector Machine\n",
        "\n",
        "$~~~~$サポートベクターマシンは、教師あり学習を用いるパターン認識モデルの一つである。\n",
        "\n",
        "![svm](https://github.com/Luyaojun/ImageAIDemo/blob/master/svm.png?raw=true)\n",
        "\n",
        "H3 は二つのクラスのいくつかの点を正しく分類していない。H1 と H2 は二つのクラスのいくつかの点を分類するのに、H2 が H1 よりもっと大きいマージンを持って分類することを確認することができる。$^{[1]}$\n",
        "\n",
        "[1] [wikipedia](https://ja.wikipedia.org/wiki/%E3%82%B5%E3%83%9D%E3%83%BC%E3%83%88%E3%83%99%E3%82%AF%E3%82%BF%E3%83%BC%E3%83%9E%E3%82%B7%E3%83%B3)"
      ]
    },
    {
      "cell_type": "code",
      "metadata": {
        "id": "S4tJkyiBN05k",
        "colab_type": "code",
        "colab": {
          "base_uri": "https://localhost:8080/",
          "height": 35
        },
        "outputId": "aa3a572b-2c0e-420b-d642-26963225a2ad"
      },
      "source": [
        "from sklearn.svm import SVC\n",
        "\n",
        "svm = SVC(kernel=\"rbf\", C=1.0, gamma=0.1, random_state=1)\n",
        "svm.fit(X_train, y_train)\n",
        "\n",
        "# Result\n",
        "pred = svm.predict(X_test)\n",
        "acc = accuracy_score(y_test, pred)\n",
        "print(f\"Accuracy: {acc:.2%}\")"
      ],
      "execution_count": null,
      "outputs": [
        {
          "output_type": "stream",
          "text": [
            "Accuracy: 71.11%\n"
          ],
          "name": "stdout"
        }
      ]
    },
    {
      "cell_type": "code",
      "metadata": {
        "id": "NPiZty8gOuiL",
        "colab_type": "code",
        "colab": {
          "base_uri": "https://localhost:8080/",
          "height": 371
        },
        "outputId": "b9683ac8-026e-4661-8968-8c6dd080485c"
      },
      "source": [
        "plot_decision_regions(X, y, classifier=svm)\n",
        "plt.xlabel(\"sepal length [cm]\")\n",
        "plt.ylabel(\"sepal width [cm]\")\n",
        "plt.legend(loc=\"upper left\")\n",
        "\n",
        "plt.tight_layout()\n",
        "plt.show()"
      ],
      "execution_count": null,
      "outputs": [
        {
          "output_type": "stream",
          "text": [
            "'c' argument looks like a single numeric RGB or RGBA sequence, which should be avoided as value-mapping will have precedence in case its length matches with 'x' & 'y'.  Please use a 2-D array with a single row if you really want to specify the same RGB or RGBA value for all points.\n",
            "'c' argument looks like a single numeric RGB or RGBA sequence, which should be avoided as value-mapping will have precedence in case its length matches with 'x' & 'y'.  Please use a 2-D array with a single row if you really want to specify the same RGB or RGBA value for all points.\n",
            "'c' argument looks like a single numeric RGB or RGBA sequence, which should be avoided as value-mapping will have precedence in case its length matches with 'x' & 'y'.  Please use a 2-D array with a single row if you really want to specify the same RGB or RGBA value for all points.\n"
          ],
          "name": "stderr"
        },
        {
          "output_type": "display_data",
          "data": {
            "image/png": "[encoded data removed]",
            "text/plain": [
              "<Figure size 432x288 with 1 Axes>"
            ]
          },
          "metadata": {
            "tags": [],
            "needs_background": "light"
          }
        }
      ]
    },
    {
      "cell_type": "markdown",
      "metadata": {
        "id": "-adRUfd6Qo4j",
        "colab_type": "text"
      },
      "source": [
        "### 参考資料\n",
        "\n",
        "- Python機械学習プログラミング  \n",
        "https://github.com/rasbt/python-machine-learning-book\n",
        "- Logisticregression  \n",
        "https://scikit-learn.org/stable/modules/generated/sklearn.linear_model.LogisticRegression.html  \n",
        "https://data-science.gr.jp/implementation/iml_sklearn_logistic_regression.html\n",
        "- SVM  \n",
        "https://scikit-learn.org/stable/modules/generated/sklearn.svm.SVC.html"
      ]
    },
    {
      "cell_type": "markdown",
      "metadata": {
        "id": "bio5zLWjRVNQ",
        "colab_type": "text"
      },
      "source": [
        "### 演習課題\n",
        "\n",
        "上記の例では、「sepal length」と「sepal width」を特徴量として、アヤメの花を分類します。演習課題では，全ての特徴量を用いて3つのクラスを分類し，accuracy(精度)を計算してみよう．"
      ]
    },
    {
      "cell_type": "code",
      "metadata": {
        "id": "5noMvkz4SjNc",
        "colab_type": "code",
        "colab": {}
      },
      "source": [
        "# 共有部分\n",
        "import numpy as np\n",
        "import matplotlib.pyplot as plt\n",
        "from sklearn import datasets\n",
        "from sklearn.model_selection import train_test_split\n",
        "from sklearn.metrics import accuracy_score\n",
        "\n",
        "# Irisデータセットの読み込み\n",
        "iris = datasets.load_iris()\n",
        "\n",
        "# Petal length & width を取得\n",
        "X = iris.data\n",
        "y = iris.target\n",
        "\n",
        "# トレーニングデータとテストデータの分割\n",
        "# 30%をテストデータに設定\n",
        "X_train, X_test, y_train, y_test = train_test_split(X,y, test_size=0.3, random_state=1, stratify=y)"
      ],
      "execution_count": 1,
      "outputs": []
    },
    {
      "cell_type": "code",
      "metadata": {
        "id": "317cClPsSjoN",
        "colab_type": "code",
        "colab": {
          "base_uri": "https://localhost:8080/",
          "height": 35
        },
        "outputId": "d49ea027-ab33-4112-affc-c50396682706"
      },
      "source": [
        "# 解答欄(Logistic regression)\n",
        "from sklearn.linear_model import LogisticRegression\n",
        "from matplotlib.colors import ListedColormap\n",
        "\n",
        "# Logistic Regression instance\n",
        "lr = LogisticRegression(C=100, random_state=1, solver='liblinear', multi_class='auto')\n",
        "lr.fit(X_train, y_train)\n",
        "\n",
        "# predict test data\n",
        "pred = lr.predict(X_test)\n",
        "acc = accuracy_score(y_test, pred)\n",
        "print(f\"Accuracy: {acc:.2%}\")"
      ],
      "execution_count": 2,
      "outputs": [
        {
          "output_type": "stream",
          "text": [
            "Accuracy: 100.00%\n"
          ],
          "name": "stdout"
        }
      ]
    },
    {
      "cell_type": "code",
      "metadata": {
        "id": "jsfSIjFESj-p",
        "colab_type": "code",
        "colab": {
          "base_uri": "https://localhost:8080/",
          "height": 35
        },
        "outputId": "19ed6c4a-fd67-4c2e-af63-8ccbd43e7caa"
      },
      "source": [
        "# 解答欄(Support Vector Machine)\n",
        "from sklearn.svm import SVC\n",
        "\n",
        "svm = SVC(kernel = \"rbf\", C=1.0, gamma=0.1, random_state=1)\n",
        "svm.fit(X_train, y_train)\n",
        "\n",
        "#predict test data\n",
        "pred = svm.predict(X_test)\n",
        "acc = accuracy_score(y_test, pred)\n",
        "print(f\"Accuracy: {acc:.2%}\")"
      ],
      "execution_count": 3,
      "outputs": [
        {
          "output_type": "stream",
          "text": [
            "Accuracy: 97.78%\n"
          ],
          "name": "stdout"
        }
      ]
    }
  ]
}