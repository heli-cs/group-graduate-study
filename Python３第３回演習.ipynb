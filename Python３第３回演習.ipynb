{
  "nbformat": 4,
  "nbformat_minor": 0,
  "metadata": {
    "colab": {
      "name": "Python３第３回演習",
      "provenance": [],
      "include_colab_link": true
    },
    "kernelspec": {
      "name": "python3",
      "display_name": "Python 3"
    }
  },
  "cells": [
    {
      "cell_type": "markdown",
      "metadata": {
        "id": "view-in-github",
        "colab_type": "text"
      },
      "source": [
        "<a href=\"https://colab.research.google.com/github/heli-cs/group-graduate-study/blob/master/Python%EF%BC%93%E7%AC%AC%EF%BC%93%E5%9B%9E%E6%BC%94%E7%BF%92.ipynb\" target=\"_parent\"><img src=\"https://colab.research.google.com/assets/colab-badge.svg\" alt=\"Open In Colab\"/></a>"
      ]
    },
    {
      "cell_type": "markdown",
      "metadata": {
        "id": "_Y8bC6iR4Txr",
        "colab_type": "text"
      },
      "source": [
        "### 1. Dictionary 辞書型\n",
        "\n",
        "Create a dictionary to store your name, gender, and hobby. The key should be \"name\", \"gender\", \"hobby\". Print the dictionary.<br/>\n",
        "名前、性別、趣味を保存する辞書を作成する。 キーは「name」、「gender」、「hobby」である必要がある。 辞書を出力する。"
      ]
    },
    {
      "cell_type": "code",
      "metadata": {
        "id": "UzeGAM344KlX",
        "colab_type": "code",
        "colab": {}
      },
      "source": [
        ""
      ],
      "execution_count": null,
      "outputs": []
    },
    {
      "cell_type": "markdown",
      "metadata": {
        "id": "-KUlzg524YNi",
        "colab_type": "text"
      },
      "source": [
        "### 2. Access dictionary items 辞書アイテムにアクセスする\n",
        "\n",
        "Use the dictionary mentioned above. Print the value of \"name\" key<br/>\n",
        "上記の辞書を使用してください。 「name」キーの値を出力する"
      ]
    },
    {
      "cell_type": "code",
      "metadata": {
        "id": "4eSnmok14b7S",
        "colab_type": "code",
        "colab": {}
      },
      "source": [
        ""
      ],
      "execution_count": null,
      "outputs": []
    },
    {
      "cell_type": "markdown",
      "metadata": {
        "id": "CjKGFSfq4jHj",
        "colab_type": "text"
      },
      "source": [
        "### 3. Loop through dictionary 辞書をループする\n",
        "\n",
        "Use the dictionary mentioned above. Print all key names and values.<br/>\n",
        "上記の辞書を使用してください。 すべてのキーの名前と値を出力する"
      ]
    },
    {
      "cell_type": "code",
      "metadata": {
        "id": "7jwkrITg4jw7",
        "colab_type": "code",
        "colab": {}
      },
      "source": [
        ""
      ],
      "execution_count": null,
      "outputs": []
    },
    {
      "cell_type": "markdown",
      "metadata": {
        "id": "wYfAFU2x4cCi",
        "colab_type": "text"
      },
      "source": [
        "### 4. Add and remove items アイテムを追加および削除する\n",
        "\n",
        "Use the dictionary mentioned above. <br/>\n",
        "- Add an item that key name is \"university\", value is \"MuroranIT\"\n",
        "- Remove the item that key name is \"hobby\"\n",
        "\n",
        "上記の辞書を使用してください。\n",
        "- キー名が「university」, 値が「MuroranIT」のアイテムを追加する\n",
        "- キー名が「hobby」のアイテムを削除する"
      ]
    },
    {
      "cell_type": "code",
      "metadata": {
        "id": "UhQUXAsR4fyj",
        "colab_type": "code",
        "colab": {}
      },
      "source": [
        ""
      ],
      "execution_count": null,
      "outputs": []
    },
    {
      "cell_type": "markdown",
      "metadata": {
        "id": "m4Yt2nk84gHi",
        "colab_type": "text"
      },
      "source": [
        "### 5. Lambda function ラムダ式\n",
        "\n",
        "Create a lambda function that multiplies argument arg1 with argument arg2 and print the result<br/>\n",
        "引数arg1と引数arg2を乗算するラムダ関数を作成し、結果を出力する。"
      ]
    },
    {
      "cell_type": "code",
      "metadata": {
        "id": "Jk5fR0km4owD",
        "colab_type": "code",
        "colab": {}
      },
      "source": [
        ""
      ],
      "execution_count": null,
      "outputs": []
    }
  ]
}